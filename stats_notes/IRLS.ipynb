{
 "cells": [
  {
   "cell_type": "markdown",
   "id": "c5cbba6d",
   "metadata": {},
   "source": [
    "## Iteratively Reweigthed Least Squares (IRLS)\n",
    "\n",
    "This notebook covers section 3.4 of the notes on IRLS. It is noit covered in the GLM videos, but has a substantial presence in the notes and is in a past exam paper.\n",
    "\n",
    "Lecture 10 Part 2 covers it.\n",
    "\n",
    "The general method is:\n",
    "\n",
    "1. Provide an inital guess ($b_0$) of the parameters $\\beta$\n",
    "2. Create a $W$ weight matrix based on the current parameters\n",
    "3. Sepcify a z that depends on current paramater estimates and the response values\n",
    "4. Using the previous values of $\\beta, (b_{(m-1)}$ calculate $b_{(m)}$ by $(X^TWX)^-1X^TWz$ where $W,z$ are from $b_{(m-1)}$\n",
    "5. Repeat until a convergence criteria is met\n",
    "\n",
    "There are two important equations:\n",
    "\n",
    "$w_{ii} = \\frac{1}{Var(Y_i)}(\\frac{\\partial \\mu_i}{\\partial \\eta_i})^2$\n",
    "\n",
    "and \n",
    "\n",
    "$z_i = \\eta_i +(y_i - \\mu_i)(\\frac{\\partial \\eta_i}{\\partial \\mu_i})$\n",
    "\n",
    "This worked example applies to the beetles data from the course. Using the logit link we should get:\n",
    "\n",
    "- $\\beta_0 = -60.717$\n",
    "- $\\beta_1 = 34.270$\n"
   ]
  },
  {
   "cell_type": "code",
   "execution_count": 80,
   "id": "90e69ef3",
   "metadata": {},
   "outputs": [],
   "source": [
    "import numpy as np\n",
    "import matplotlib.pyplot as plt"
   ]
  },
  {
   "cell_type": "code",
   "execution_count": 81,
   "id": "aaa0e92b",
   "metadata": {},
   "outputs": [],
   "source": [
    "betas = np.array([-60,35])[:,None]\n",
    "\n",
    "beet_conc = np.array([1.6907, 1.7242, 1.7552, 1.7842, 1.8113, 1.8369, 1.8610, 1.8839])\n",
    "beet_no = np.array([59, 60, 62, 56, 63, 59, 62, 60])\n",
    "beet_dead = np.array([6,13,18,28,52,53,61,60])\n",
    "beet_prop = beet_dead/beet_no\n",
    "\n",
    "dims = np.shape(beet_conc)[0]\n",
    "\n",
    "np.ones((dims,1))\n",
    "\n",
    "X = np.hstack([np.ones((np.shape(beet_conc)[0],1)), beet_conc[:,None]])"
   ]
  },
  {
   "cell_type": "markdown",
   "id": "9cbbe3bd",
   "metadata": {},
   "source": [
    "Recalling for the logit:\n",
    "\n",
    "$\\mu_i = \\frac{e^{\\eta_i}}{e^{\\eta_i}+1}$\n",
    "\n",
    "Therefore the derivative by quotient rule is \n",
    "\n",
    "$\\frac{\\partial \\mu_i}{\\partial \\eta_i} = \\frac{\\exp(\\eta_i)}{(1+ \\exp(\\eta_i))^2}$\n",
    "\n",
    "As:\n",
    "\n",
    "$Var(Y_i) = \\frac{\\mu_i(1-\\mu_i)}{n_i}$\n",
    "\n",
    "And swapping $\\mu$ for $\\frac{e^{\\eta_i}}{e^{\\eta_i}+1}$\n",
    "\n",
    "$Var(Y_i) = \\frac{e^{\\eta_i}}{n_i(e^{\\eta_i}+1)^2}$\n",
    "\n",
    "Therefore $w_{ii}=\\frac{1}{Var(Y_i)}(\\frac{\\partial \\mu_i}{\\partial \\eta_i})^2$ \n",
    "\n",
    "Which can be shown to equal:\n",
    "\n",
    "$w_{ii}=\\frac{n_i\\exp(\\eta_i)}{(1+ \\exp(\\eta_i))^2}$"
   ]
  },
  {
   "cell_type": "code",
   "execution_count": 82,
   "id": "295c4421",
   "metadata": {},
   "outputs": [],
   "source": [
    "def calc_w(X, betas, n):\n",
    "    \n",
    "    eta = X @ betas\n",
    "    \n",
    "    eta = eta.flatten()\n",
    "    \n",
    "    diag = (n*np.exp(eta))/(1+np.exp(eta))**2 \n",
    "\n",
    "    zeros = np.zeros((dims,dims))\n",
    "    \n",
    "    np.fill_diagonal(zeros,diag)\n",
    "    \n",
    "    return zeros"
   ]
  },
  {
   "cell_type": "markdown",
   "id": "e9179ed6",
   "metadata": {},
   "source": [
    "We know that:\n",
    "\n",
    "$\\eta_i = log(\\frac{\\mu_i}{1-\\mu_i})$\n",
    "\n",
    "By chain (and therefore quotient rule)\n",
    "\n",
    "$\\frac{\\partial \\eta_i}{\\partial \\mu_i} = \\frac{1}{\\mu_i(1-\\mu_i)}$\n",
    "\n",
    "therefore:\n",
    "\n",
    "$z_i = \\eta_i + \\frac{y-\\mu_i}{\\mu_i(1-\\mu_i)}$"
   ]
  },
  {
   "cell_type": "code",
   "execution_count": 85,
   "id": "3c80ae4c",
   "metadata": {},
   "outputs": [],
   "source": [
    "\n",
    "\n",
    "\n",
    "def z_calc(eta, y, mu):\n",
    "    \n",
    "    return eta + (y - mu)/(mu*(1-mu))\n",
    "\n",
    "b_0 = [0]\n",
    "betas = np.array([0,0])[:,None]\n",
    "for i in range(10):\n",
    "    eta = (X @ betas).flatten()\n",
    "    mu = np.exp(eta)/(1+np.exp(eta))\n",
    "\n",
    "    z = z_calc(eta, beet_prop, mu)\n",
    "    w = calc_w(X, betas, beet_no)\n",
    "\n",
    "    betas = np.linalg.inv(X.T @ w @ X)@X.T@w@z\n",
    "    \n",
    "    b_0 = b_0 + [betas[0]]\n",
    "    \n",
    "    \n",
    "# np.linalg.inv(X.T @ w @ X) is the covariance matrix and contains SE"
   ]
  },
  {
   "cell_type": "code",
   "execution_count": 84,
   "id": "e9f67e1b",
   "metadata": {},
   "outputs": [
    {
     "data": {
      "text/plain": [
       "[<matplotlib.lines.Line2D at 0x13411f450>]"
      ]
     },
     "execution_count": 84,
     "metadata": {},
     "output_type": "execute_result"
    },
    {
     "data": {
      "image/png": "[encoded data removed]",
      "text/plain": [
       "<Figure size 432x288 with 1 Axes>"
      ]
     },
     "metadata": {
      "needs_background": "light"
     },
     "output_type": "display_data"
    }
   ],
   "source": [
    "plt.plot(b_0)"
   ]
  },
  {
   "cell_type": "code",
   "execution_count": null,
   "id": "0eaa110c",
   "metadata": {},
   "outputs": [],
   "source": []
  }
 ],
 "metadata": {
  "kernelspec": {
   "display_name": "Python 3 (ipykernel)",
   "language": "python",
   "name": "python3"
  },
  "language_info": {
   "codemirror_mode": {
    "name": "ipython",
    "version": 3
   },
   "file_extension": ".py",
   "mimetype": "text/x-python",
   "name": "python",
   "nbconvert_exporter": "python",
   "pygments_lexer": "ipython3",
   "version": "3.11.0"
  }
 },
 "nbformat": 4,
 "nbformat_minor": 5
}
